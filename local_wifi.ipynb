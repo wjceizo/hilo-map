{
  "nbformat": 4,
  "nbformat_minor": 0,
  "metadata": {
    "colab": {
      "name": "local_wifi.ipynb",
      "provenance": [],
      "collapsed_sections": []
    },
    "kernelspec": {
      "name": "python3",
      "display_name": "Python 3"
    }
  },
  "cells": [
    {
      "cell_type": "code",
      "metadata": {
        "colab": {
          "base_uri": "https://localhost:8080/"
        },
        "id": "hXMHS81WtMaa",
        "outputId": "7a4827db-eee6-468c-e982-1bad69b69d87"
      },
      "source": [
        "from google.colab import drive\r\n",
        "drive.mount('/content/gdrive')"
      ],
      "execution_count": 1,
      "outputs": [
        {
          "output_type": "stream",
          "text": [
            "Mounted at /content/gdrive\n"
          ],
          "name": "stdout"
        }
      ]
    },
    {
      "cell_type": "code",
      "metadata": {
        "id": "PyMUhjY4tmQf",
        "colab": {
          "base_uri": "https://localhost:8080/"
        },
        "outputId": "1815359f-100b-483f-cf89-220cdaebf40a"
      },
      "source": [
        "from __future__ import print_function\r\n",
        "\r\n",
        "import math\r\n",
        "\r\n",
        "from IPython import display\r\n",
        "from matplotlib import cm\r\n",
        "from matplotlib import gridspec\r\n",
        "from matplotlib import pyplot as plt\r\n",
        "from sklearn.model_selection import train_test_split\r\n",
        "from matplotlib.pyplot import close, ioff, ion\r\n",
        "from pandas import DataFrame, concat\r\n",
        "\r\n",
        "import numpy as np\r\n",
        "from time import time\r\n",
        "from os.path import exists, join\r\n",
        "from os import mkdir\r\n",
        "from numpy import mean, std, sum, min, delete\r\n",
        "import pandas as pd\r\n",
        "from pandas import read_csv, concat\r\n",
        "from sklearn import metrics\r\n",
        "%tensorflow_version 1.x\r\n",
        "import tensorflow as tf\r\n",
        "from tensorflow.python.data import Dataset\r\n",
        "\r\n",
        "from sklearn.model_selection import train_test_split\r\n",
        "\r\n",
        "tf.logging.set_verbosity(tf.logging.ERROR)\r\n",
        "pd.options.display.max_rows = 10\r\n",
        "pd.options.display.float_format = '{:.1f}'.format"
      ],
      "execution_count": 2,
      "outputs": [
        {
          "output_type": "stream",
          "text": [
            "TensorFlow 1.x selected.\n"
          ],
          "name": "stdout"
        }
      ]
    },
    {
      "cell_type": "code",
      "metadata": {
        "id": "RjE7K5hUt8c7"
      },
      "source": [
        "N = 24 # Number of WAPS - CONSTANT\r\n",
        "MIN_WAPS = 9 # Required number of active WAPS per sample.\r\n",
        "NO_SIGNAL_VALUE = -98 # Changed Null Value\r\n",
        "QUANTITATIVE_COLUMNS = ['length', 'width'] # Regression Columns\r\n",
        "# Used to remove columns where information is missing the validation data.\r\n",
        "SAVE_FIGS = False # Trigger to save/overwrite figures(saves 5 seconds if False)\r\n",
        "SAVE_REPORT = False # Trigger to save/overwrite report\r\n",
        "PRINT_SUB = False # Trigger to print sub reports or not.\r\n",
        "DISPLAY_PLOTS = False # If true, the 20 figures will be created on screen.\r\n",
        "SRC_NULL = 100 # Original Null Value\r\n",
        "DST_NULL = -98 # Changed Null Value\r\n",
        "MIN_WAPS = 9 # Minimum number of WAPS per sample."
      ],
      "execution_count": 3,
      "outputs": []
    },
    {
      "cell_type": "code",
      "metadata": {
        "colab": {
          "base_uri": "https://localhost:8080/",
          "height": 445
        },
        "id": "Fi-yCPR0wQwV",
        "outputId": "fdeab5aa-035d-4fc6-eeb8-15e5eec5498c"
      },
      "source": [
        "def load_data(train_fname, N, dst_null=DST_NULL, ):\n",
        "    data = pd.read_csv(train_fname)\n",
        "    data = data.reindex(np.random.permutation(data.index))\n",
        "    del data['pos']\n",
        "    X = data.iloc[:, :N]\n",
        "    Y = data.iloc[:, N:]\n",
        "    X.replace(SRC_NULL, dst_null, inplace=True)\n",
        "    X[X < dst_null] = dst_null\n",
        "    X /= min(X)\n",
        "    X = 1 - X\n",
        "    return X, Y\n",
        "\n",
        "data = load_data(\"train_set.csv\",N, dst_null=NO_SIGNAL_VALUE) \n",
        "X, Y = data            \n",
        "X\n"
      ],
      "execution_count": 4,
      "outputs": [
        {
          "output_type": "execute_result",
          "data": {
            "text/html": [
              "<div>\n",
              "<style scoped>\n",
              "    .dataframe tbody tr th:only-of-type {\n",
              "        vertical-align: middle;\n",
              "    }\n",
              "\n",
              "    .dataframe tbody tr th {\n",
              "        vertical-align: top;\n",
              "    }\n",
              "\n",
              "    .dataframe thead th {\n",
              "        text-align: right;\n",
              "    }\n",
              "</style>\n",
              "<table border=\"1\" class=\"dataframe\">\n",
              "  <thead>\n",
              "    <tr style=\"text-align: right;\">\n",
              "      <th></th>\n",
              "      <th>CZUST (04_8B_42_23_50_CF)</th>\n",
              "      <th>CZUST (06_05_88_E1_E2_02)</th>\n",
              "      <th>CZUST (06_05_88_E1_F1_D6)</th>\n",
              "      <th>CZUST (06_05_88_E1_F5_F6)</th>\n",
              "      <th>CZUST (06_05_88_E1_F5_F7)</th>\n",
              "      <th>CZUST (06_05_88_E7_F5_48)</th>\n",
              "      <th>fc (EC_41_18_F2_16_5D)</th>\n",
              "      <th>fc_5G (EC_41_18_F2_16_5E)</th>\n",
              "      <th>feichang (5C_78_F8_2D_D6_38)</th>\n",
              "      <th>iSimple (04_D9_F5_FA_DA_B8)</th>\n",
              "      <th>iSimpleDev (24_4B_FE_31_38_40)</th>\n",
              "      <th>iSimpleDev_5G (24_4B_FE_31_38_44)</th>\n",
              "      <th>iSimple_5G (04_D9_F5_FA_DA_BC)</th>\n",
              "      <th>Wifi-7628-1522 (3C_8F_06_01_15_22)</th>\n",
              "      <th>CZUST (04_8B_42_22_72_E5)</th>\n",
              "      <th>ZYTX_AP (AC_1F_09_01_8B_62)</th>\n",
              "      <th>CZUST (06_05_88_E1_E9_5E)</th>\n",
              "      <th>CZUST (06_05_88_E7_FD_BC)</th>\n",
              "      <th>ap_mishare_0f94 (7E_2A_31_66_A0_F3)</th>\n",
              "      <th>CZUST (04_8B_42_22_71_F0)</th>\n",
              "      <th>CZUST (04_8B_42_23_66_0A)</th>\n",
              "      <th>CZUST (06_05_88_E7_FF_94)</th>\n",
              "      <th>CZUST (06_05_88_E1_E9_5F)</th>\n",
              "      <th>CZUST (06_05_88_E1_EA_3A)</th>\n",
              "    </tr>\n",
              "  </thead>\n",
              "  <tbody>\n",
              "    <tr>\n",
              "      <th>12</th>\n",
              "      <td>0.0</td>\n",
              "      <td>0.3</td>\n",
              "      <td>0.3</td>\n",
              "      <td>0.3</td>\n",
              "      <td>0.3</td>\n",
              "      <td>0.1</td>\n",
              "      <td>0.2</td>\n",
              "      <td>0.2</td>\n",
              "      <td>0.3</td>\n",
              "      <td>0.5</td>\n",
              "      <td>0.4</td>\n",
              "      <td>0.5</td>\n",
              "      <td>0.5</td>\n",
              "      <td>0.1</td>\n",
              "      <td>0.0</td>\n",
              "      <td>0.0</td>\n",
              "      <td>0.2</td>\n",
              "      <td>0.1</td>\n",
              "      <td>0.0</td>\n",
              "      <td>0.1</td>\n",
              "      <td>0.0</td>\n",
              "      <td>0.0</td>\n",
              "      <td>0.0</td>\n",
              "      <td>0.0</td>\n",
              "    </tr>\n",
              "    <tr>\n",
              "      <th>3</th>\n",
              "      <td>0.0</td>\n",
              "      <td>0.2</td>\n",
              "      <td>0.2</td>\n",
              "      <td>0.1</td>\n",
              "      <td>0.2</td>\n",
              "      <td>0.0</td>\n",
              "      <td>0.2</td>\n",
              "      <td>0.1</td>\n",
              "      <td>0.1</td>\n",
              "      <td>0.2</td>\n",
              "      <td>0.3</td>\n",
              "      <td>0.2</td>\n",
              "      <td>0.2</td>\n",
              "      <td>0.3</td>\n",
              "      <td>0.0</td>\n",
              "      <td>0.0</td>\n",
              "      <td>0.0</td>\n",
              "      <td>0.0</td>\n",
              "      <td>0.0</td>\n",
              "      <td>0.0</td>\n",
              "      <td>0.0</td>\n",
              "      <td>0.0</td>\n",
              "      <td>0.0</td>\n",
              "      <td>0.0</td>\n",
              "    </tr>\n",
              "    <tr>\n",
              "      <th>4</th>\n",
              "      <td>0.0</td>\n",
              "      <td>0.2</td>\n",
              "      <td>0.3</td>\n",
              "      <td>0.2</td>\n",
              "      <td>0.1</td>\n",
              "      <td>0.0</td>\n",
              "      <td>0.3</td>\n",
              "      <td>0.2</td>\n",
              "      <td>0.3</td>\n",
              "      <td>0.4</td>\n",
              "      <td>0.6</td>\n",
              "      <td>0.3</td>\n",
              "      <td>0.3</td>\n",
              "      <td>0.4</td>\n",
              "      <td>0.0</td>\n",
              "      <td>0.0</td>\n",
              "      <td>0.1</td>\n",
              "      <td>0.0</td>\n",
              "      <td>0.0</td>\n",
              "      <td>0.0</td>\n",
              "      <td>0.0</td>\n",
              "      <td>0.0</td>\n",
              "      <td>0.0</td>\n",
              "      <td>0.0</td>\n",
              "    </tr>\n",
              "    <tr>\n",
              "      <th>20</th>\n",
              "      <td>0.0</td>\n",
              "      <td>0.2</td>\n",
              "      <td>0.2</td>\n",
              "      <td>0.1</td>\n",
              "      <td>0.1</td>\n",
              "      <td>0.0</td>\n",
              "      <td>0.0</td>\n",
              "      <td>0.1</td>\n",
              "      <td>0.1</td>\n",
              "      <td>0.1</td>\n",
              "      <td>0.3</td>\n",
              "      <td>0.2</td>\n",
              "      <td>0.2</td>\n",
              "      <td>0.2</td>\n",
              "      <td>0.0</td>\n",
              "      <td>0.1</td>\n",
              "      <td>0.1</td>\n",
              "      <td>0.0</td>\n",
              "      <td>0.0</td>\n",
              "      <td>0.0</td>\n",
              "      <td>0.0</td>\n",
              "      <td>0.0</td>\n",
              "      <td>0.0</td>\n",
              "      <td>0.0</td>\n",
              "    </tr>\n",
              "    <tr>\n",
              "      <th>1</th>\n",
              "      <td>0.0</td>\n",
              "      <td>0.2</td>\n",
              "      <td>0.2</td>\n",
              "      <td>0.2</td>\n",
              "      <td>0.3</td>\n",
              "      <td>0.0</td>\n",
              "      <td>0.2</td>\n",
              "      <td>0.3</td>\n",
              "      <td>0.3</td>\n",
              "      <td>0.2</td>\n",
              "      <td>0.1</td>\n",
              "      <td>0.1</td>\n",
              "      <td>0.0</td>\n",
              "      <td>0.3</td>\n",
              "      <td>0.0</td>\n",
              "      <td>0.0</td>\n",
              "      <td>0.0</td>\n",
              "      <td>0.0</td>\n",
              "      <td>0.0</td>\n",
              "      <td>0.0</td>\n",
              "      <td>0.0</td>\n",
              "      <td>0.0</td>\n",
              "      <td>0.0</td>\n",
              "      <td>0.0</td>\n",
              "    </tr>\n",
              "    <tr>\n",
              "      <th>...</th>\n",
              "      <td>...</td>\n",
              "      <td>...</td>\n",
              "      <td>...</td>\n",
              "      <td>...</td>\n",
              "      <td>...</td>\n",
              "      <td>...</td>\n",
              "      <td>...</td>\n",
              "      <td>...</td>\n",
              "      <td>...</td>\n",
              "      <td>...</td>\n",
              "      <td>...</td>\n",
              "      <td>...</td>\n",
              "      <td>...</td>\n",
              "      <td>...</td>\n",
              "      <td>...</td>\n",
              "      <td>...</td>\n",
              "      <td>...</td>\n",
              "      <td>...</td>\n",
              "      <td>...</td>\n",
              "      <td>...</td>\n",
              "      <td>...</td>\n",
              "      <td>...</td>\n",
              "      <td>...</td>\n",
              "      <td>...</td>\n",
              "    </tr>\n",
              "    <tr>\n",
              "      <th>0</th>\n",
              "      <td>0.1</td>\n",
              "      <td>0.3</td>\n",
              "      <td>0.2</td>\n",
              "      <td>0.4</td>\n",
              "      <td>0.3</td>\n",
              "      <td>0.2</td>\n",
              "      <td>0.4</td>\n",
              "      <td>0.3</td>\n",
              "      <td>0.4</td>\n",
              "      <td>0.2</td>\n",
              "      <td>0.3</td>\n",
              "      <td>0.2</td>\n",
              "      <td>0.2</td>\n",
              "      <td>0.4</td>\n",
              "      <td>0.0</td>\n",
              "      <td>0.0</td>\n",
              "      <td>0.0</td>\n",
              "      <td>0.0</td>\n",
              "      <td>0.0</td>\n",
              "      <td>0.0</td>\n",
              "      <td>0.0</td>\n",
              "      <td>0.0</td>\n",
              "      <td>0.0</td>\n",
              "      <td>0.0</td>\n",
              "    </tr>\n",
              "    <tr>\n",
              "      <th>7</th>\n",
              "      <td>0.0</td>\n",
              "      <td>0.1</td>\n",
              "      <td>0.2</td>\n",
              "      <td>0.1</td>\n",
              "      <td>0.0</td>\n",
              "      <td>0.0</td>\n",
              "      <td>0.1</td>\n",
              "      <td>0.1</td>\n",
              "      <td>0.0</td>\n",
              "      <td>0.1</td>\n",
              "      <td>0.3</td>\n",
              "      <td>0.1</td>\n",
              "      <td>0.1</td>\n",
              "      <td>0.1</td>\n",
              "      <td>0.1</td>\n",
              "      <td>0.0</td>\n",
              "      <td>0.3</td>\n",
              "      <td>0.2</td>\n",
              "      <td>0.3</td>\n",
              "      <td>0.2</td>\n",
              "      <td>0.1</td>\n",
              "      <td>0.0</td>\n",
              "      <td>0.0</td>\n",
              "      <td>0.0</td>\n",
              "    </tr>\n",
              "    <tr>\n",
              "      <th>19</th>\n",
              "      <td>0.0</td>\n",
              "      <td>0.3</td>\n",
              "      <td>0.4</td>\n",
              "      <td>0.4</td>\n",
              "      <td>0.4</td>\n",
              "      <td>0.1</td>\n",
              "      <td>0.2</td>\n",
              "      <td>0.2</td>\n",
              "      <td>0.3</td>\n",
              "      <td>0.6</td>\n",
              "      <td>0.5</td>\n",
              "      <td>0.5</td>\n",
              "      <td>0.5</td>\n",
              "      <td>0.0</td>\n",
              "      <td>0.0</td>\n",
              "      <td>0.0</td>\n",
              "      <td>0.2</td>\n",
              "      <td>0.1</td>\n",
              "      <td>0.0</td>\n",
              "      <td>0.1</td>\n",
              "      <td>0.0</td>\n",
              "      <td>0.0</td>\n",
              "      <td>0.0</td>\n",
              "      <td>0.0</td>\n",
              "    </tr>\n",
              "    <tr>\n",
              "      <th>16</th>\n",
              "      <td>0.0</td>\n",
              "      <td>0.4</td>\n",
              "      <td>0.3</td>\n",
              "      <td>0.5</td>\n",
              "      <td>0.4</td>\n",
              "      <td>0.2</td>\n",
              "      <td>0.3</td>\n",
              "      <td>0.2</td>\n",
              "      <td>0.3</td>\n",
              "      <td>0.3</td>\n",
              "      <td>0.6</td>\n",
              "      <td>0.3</td>\n",
              "      <td>0.2</td>\n",
              "      <td>0.1</td>\n",
              "      <td>0.0</td>\n",
              "      <td>0.0</td>\n",
              "      <td>0.2</td>\n",
              "      <td>0.1</td>\n",
              "      <td>0.0</td>\n",
              "      <td>0.0</td>\n",
              "      <td>0.0</td>\n",
              "      <td>0.0</td>\n",
              "      <td>0.0</td>\n",
              "      <td>0.0</td>\n",
              "    </tr>\n",
              "    <tr>\n",
              "      <th>17</th>\n",
              "      <td>0.0</td>\n",
              "      <td>0.2</td>\n",
              "      <td>0.2</td>\n",
              "      <td>0.3</td>\n",
              "      <td>0.3</td>\n",
              "      <td>0.0</td>\n",
              "      <td>0.3</td>\n",
              "      <td>0.2</td>\n",
              "      <td>0.2</td>\n",
              "      <td>0.2</td>\n",
              "      <td>0.3</td>\n",
              "      <td>0.3</td>\n",
              "      <td>0.3</td>\n",
              "      <td>0.1</td>\n",
              "      <td>0.0</td>\n",
              "      <td>0.0</td>\n",
              "      <td>0.0</td>\n",
              "      <td>0.1</td>\n",
              "      <td>0.0</td>\n",
              "      <td>0.0</td>\n",
              "      <td>0.0</td>\n",
              "      <td>0.0</td>\n",
              "      <td>0.0</td>\n",
              "      <td>0.0</td>\n",
              "    </tr>\n",
              "  </tbody>\n",
              "</table>\n",
              "<p>24 rows × 24 columns</p>\n",
              "</div>"
            ],
            "text/plain": [
              "    CZUST (04_8B_42_23_50_CF)  ...  CZUST (06_05_88_E1_EA_3A)\n",
              "12                        0.0  ...                        0.0\n",
              "3                         0.0  ...                        0.0\n",
              "4                         0.0  ...                        0.0\n",
              "20                        0.0  ...                        0.0\n",
              "1                         0.0  ...                        0.0\n",
              "..                        ...  ...                        ...\n",
              "0                         0.1  ...                        0.0\n",
              "7                         0.0  ...                        0.0\n",
              "19                        0.0  ...                        0.0\n",
              "16                        0.0  ...                        0.0\n",
              "17                        0.0  ...                        0.0\n",
              "\n",
              "[24 rows x 24 columns]"
            ]
          },
          "metadata": {
            "tags": []
          },
          "execution_count": 4
        }
      ]
    },
    {
      "cell_type": "code",
      "metadata": {
        "id": "bQ_ndxEz5k_8"
      },
      "source": [
        "def load_tdata(train_fname,dst_null=DST_NULL, ):\n",
        "    data = pd.read_csv(train_fname)\n",
        "    del data['pos']\n",
        "    X = data\n",
        "    X.replace(SRC_NULL, dst_null, inplace=True)\n",
        "    X[X < dst_null] = dst_null\n",
        "    X /= min(X)\n",
        "    X = 1 - X\n",
        "    return X\n",
        "\n",
        "tdata = load_tdata(\"test_set.csv\",dst_null=NO_SIGNAL_VALUE) \n",
        "Z = tdata  \n",
        "z_train = Z.values         "
      ],
      "execution_count": 5,
      "outputs": []
    },
    {
      "cell_type": "code",
      "metadata": {
        "id": "DPtihrdy0J_S"
      },
      "source": [
        "x_train_o, x_test_o, y_train, y_test = train_test_split(X.values, Y.values, test_size=0.1, random_state=0)"
      ],
      "execution_count": 6,
      "outputs": []
    },
    {
      "cell_type": "code",
      "metadata": {
        "id": "we9IiYRg04Ur"
      },
      "source": [
        "def filter_out_low_WAPS(data, labels, num_samples=MIN_WAPS):\r\n",
        "    drop_rows = list()\r\n",
        "    for i, x in enumerate(data):\r\n",
        "        count = sum(x != DST_NULL)\r\n",
        "        if count < num_samples:\r\n",
        "            drop_rows.append(i)\r\n",
        "            \r\n",
        "    new_data = delete(data, drop_rows, axis=0)\r\n",
        "    new_labels = delete(labels, drop_rows, axis=0)\r\n",
        "        \r\n",
        "    return new_data, new_labels\r\n",
        "\r\n",
        "x_train_o, y_train = filter_out_low_WAPS(x_train_o, y_train, MIN_WAPS)\r\n",
        "x_test_o, y_test = filter_out_low_WAPS(x_test_o, y_test, MIN_WAPS)"
      ],
      "execution_count": 7,
      "outputs": []
    },
    {
      "cell_type": "code",
      "metadata": {
        "id": "fmeJMVZB07qe"
      },
      "source": [
        "y_train = DataFrame(y_train, columns=Y.columns)\r\n",
        "y_test = DataFrame(y_test, columns=Y.columns)"
      ],
      "execution_count": 8,
      "outputs": []
    },
    {
      "cell_type": "code",
      "metadata": {
        "id": "00aCQQIx09sf"
      },
      "source": [
        "from sklearn.neighbors import KNeighborsRegressor, KNeighborsClassifier\r\n",
        "from sklearn.feature_selection import VarianceThreshold\r\n",
        "def load_KNN():\r\n",
        "    '''\r\n",
        "    Loads K-Nearest Neighbor and gives a name for the output files.\r\n",
        "    \r\n",
        "    Parameters : None\r\n",
        "    \r\n",
        "    Returns    : model_name :  (str) Name of the model for output file.\r\n",
        "                       clf  : (Classifier) Building and Floor Classifier\r\n",
        "                       regr : (REgressor) Longitude and Latitude Regressor\r\n",
        "    '''\r\n",
        "    model_name = \"K-Nearest Neighbors\"\r\n",
        "    regr = KNeighborsRegressor(n_neighbors=1, algorithm='kd_tree',\r\n",
        "                                leaf_size=50, p=1)\r\n",
        "    \r\n",
        "    return model_name,regr\r\n",
        "def threshold_variance(x_train, x_test, z_train, thresh):\r\n",
        "    '''\r\n",
        "    Removes all features with variance below thresh\r\n",
        "    \r\n",
        "    Parameters : x_train  : (DataFrame) Training Dataset\r\n",
        "                 x_test   : (DataFrame) Test Dataset\r\n",
        "                 thresh   : (float) the number used to threshold the variance\r\n",
        "    \r\n",
        "    Returns    : x_train  : (DataFrame) Training Dataset\r\n",
        "                 x_test   : (DataFrame) Test Dataset\r\n",
        "    '''   \r\n",
        "    variance_thresh = VarianceThreshold(thresh)\r\n",
        "    x_train = variance_thresh.fit_transform(x_train)\r\n",
        "    x_test = variance_thresh.transform(x_test)\r\n",
        "    z_train = variance_thresh.transform(z_train)\r\n",
        "    \r\n",
        "    return x_train, x_test, z_train\r\n",
        "\r\n",
        "model_name, regr = load_KNN()\r\n",
        "x_train, x_test, z_train = threshold_variance(x_train_o, x_test_o, z_train, thresh=0.00001)\r\n",
        "data_in =  (x_train, x_test, y_train, y_test, z_train)"
      ],
      "execution_count": 9,
      "outputs": []
    },
    {
      "cell_type": "code",
      "metadata": {
        "id": "pOhSwyCs1BWT"
      },
      "source": [
        "# from numpy import sqrt, square, sum\r\n",
        "\r\n",
        "# def localizaion_error(prediction, truth):\r\n",
        "#     x, y  = prediction['length'].values, prediction['width'].values\r\n",
        "#     x0, y0 = truth['length'].values, truth['width'].values\r\n",
        "#     error = sqrt(square(x - x0) + square(y - y0))\r\n",
        "#     return error\r\n",
        "    "
      ],
      "execution_count": null,
      "outputs": []
    },
    {
      "cell_type": "code",
      "metadata": {
        "id": "9Qgjd1JC1J1N"
      },
      "source": [
        "from time import time"
      ],
      "execution_count": 10,
      "outputs": []
    },
    {
      "cell_type": "code",
      "metadata": {
        "id": "F3gXnFEV1KVQ"
      },
      "source": [
        "def run_model(model_name,regr,data):\r\n",
        "    tic_model = time() # Start model performance timer\r\n",
        "\r\n",
        "    x_train, x_test, y_train, y_test , z_train = data # Decompose tuple into datasets\r\n",
        "           \r\n",
        "    # Regressor\r\n",
        "    fit = regr.fit(x_train, y_train[QUANTITATIVE_COLUMNS])\r\n",
        "    prediction = fit.predict(z_train)\r\n",
        "    regr_prediction = DataFrame(prediction, columns=QUANTITATIVE_COLUMNS)\r\n",
        "    \r\n",
        "    prediction = regr_prediction\r\n",
        "    \r\n",
        "    # errors = localizaion_error(prediction, y_test)\r\n",
        "    \r\n",
        "    print(prediction)\r\n",
        "\r\n",
        "    \r\n",
        "    return prediction"
      ],
      "execution_count": 11,
      "outputs": []
    },
    {
      "cell_type": "code",
      "metadata": {
        "colab": {
          "base_uri": "https://localhost:8080/"
        },
        "id": "hNJZ16AW1NiY",
        "outputId": "dd151c35-ec74-4b7d-a935-8941f9839a6e"
      },
      "source": [
        "knn_prediction = run_model(model_name,regr, data_in)\r\n"
      ],
      "execution_count": 12,
      "outputs": [
        {
          "output_type": "stream",
          "text": [
            "   length  width\n",
            "0    14.0    2.2\n",
            "1     4.0    6.6\n",
            "2     8.0    4.4\n",
            "3    10.0    6.6\n",
            "4     6.0    2.2\n",
            "5     8.0    2.2\n",
            "6    10.0    6.6\n",
            "7     4.0    4.4\n"
          ],
          "name": "stdout"
        }
      ]
    },
    {
      "cell_type": "code",
      "metadata": {
        "colab": {
          "base_uri": "https://localhost:8080/"
        },
        "id": "l1dEOv-SFTNk",
        "outputId": "43a834e3-6315-4568-8fca-6413815ffcfc"
      },
      "source": [
        "length = knn_prediction['length'].values.tolist()\r\n",
        "width = knn_prediction['width'].values.tolist()\r\n",
        "width"
      ],
      "execution_count": 35,
      "outputs": [
        {
          "output_type": "execute_result",
          "data": {
            "text/plain": [
              "[2.2, 6.6, 4.4, 6.6, 2.2, 2.2, 6.6, 4.4]"
            ]
          },
          "metadata": {
            "tags": []
          },
          "execution_count": 35
        }
      ]
    },
    {
      "cell_type": "code",
      "metadata": {
        "colab": {
          "base_uri": "https://localhost:8080/"
        },
        "id": "Nq33CZ9WJbkQ",
        "outputId": "77ad3fd2-637b-4ada-adf3-ebd9041c6c1e"
      },
      "source": [
        "length = [390 + i / 2 * 80.5 for i in length]\r\n",
        "width = [85 + j / 2.2 * 87.4 for j in width]\r\n",
        "width"
      ],
      "execution_count": 36,
      "outputs": [
        {
          "output_type": "execute_result",
          "data": {
            "text/plain": [
              "[172.4, 347.2, 259.8, 347.2, 172.4, 172.4, 347.2, 259.8]"
            ]
          },
          "metadata": {
            "tags": []
          },
          "execution_count": 36
        }
      ]
    },
    {
      "cell_type": "code",
      "metadata": {
        "colab": {
          "base_uri": "https://localhost:8080/",
          "height": 218
        },
        "id": "W5izTJjZIWzu",
        "outputId": "f34bef65-988b-4331-e966-80330534df6c"
      },
      "source": [
        "from PIL import Image\n",
        "from pylab import  *\n",
        " \n",
        "im = array(Image.open('office.jpg'))\n",
        "\n",
        "imshow(im)\n",
        " \n",
        "x = length\n",
        "y = width\n",
        " \n",
        "# 使用红色星状物标记绘制点\n",
        "plot(x,y,'r*')\n",
        " \n",
        "#绘制前两个点的线\n",
        "plot(x[:2],y[:2])\n",
        " \n",
        "#添加标题，显示绘制的图像\n",
        "title('map')\n",
        "show()"
      ],
      "execution_count": 40,
      "outputs": [
        {
          "output_type": "display_data",
          "data": {
            "image/png": "[encoded data removed]",
            "text/plain": [
              "<Figure size 432x288 with 1 Axes>"
            ]
          },
          "metadata": {
            "tags": [],
            "needs_background": "light"
          }
        }
      ]
    }
  ]
}